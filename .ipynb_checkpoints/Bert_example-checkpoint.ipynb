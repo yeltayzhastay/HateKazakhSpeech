{
 "cells": [
  {
   "cell_type": "code",
   "execution_count": 38,
   "metadata": {},
   "outputs": [],
   "source": [
    "import numpy as np\n",
    "import pandas as pd\n",
    "from sklearn.model_selection import train_test_split\n",
    "from sklearn.linear_model import LogisticRegression\n",
    "from sklearn.model_selection import GridSearchCV\n",
    "from sklearn.model_selection import cross_val_score\n",
    "import torch\n",
    "import transformers as ppb\n",
    "import warnings\n",
    "warnings.filterwarnings('ignore')\n",
    "\n",
    "from sklearn.linear_model import LogisticRegression\n",
    "from sklearn.model_selection import train_test_split\n",
    "from sklearn.metrics import f1_score\n",
    "from sklearn.feature_selection import SelectFromModel\n",
    "from sklearn.metrics import classification_report\n",
    "from sklearn.metrics import accuracy_score\n",
    "from sklearn.svm import LinearSVC\n",
    "from sklearn.ensemble import RandomForestClassifier\n",
    "from sklearn.naive_bayes import GaussianNB\n",
    "\n",
    "import seaborn as sns\n",
    "import matplotlib.pyplot as plt"
   ]
  },
  {
   "cell_type": "markdown",
   "metadata": {},
   "source": [
    "## Деректер жиынын импорттау\n",
    "Біз pandas-ті мәліметтер жиынтығын оқып, оны деректер шеңберіне жүктеу үшін қолданамыз."
   ]
  },
  {
   "cell_type": "code",
   "execution_count": 13,
   "metadata": {},
   "outputs": [
    {
     "data": {
      "text/html": [
       "<div>\n",
       "<style scoped>\n",
       "    .dataframe tbody tr th:only-of-type {\n",
       "        vertical-align: middle;\n",
       "    }\n",
       "\n",
       "    .dataframe tbody tr th {\n",
       "        vertical-align: top;\n",
       "    }\n",
       "\n",
       "    .dataframe thead th {\n",
       "        text-align: right;\n",
       "    }\n",
       "</style>\n",
       "<table border=\"1\" class=\"dataframe\">\n",
       "  <thead>\n",
       "    <tr style=\"text-align: right;\">\n",
       "      <th></th>\n",
       "      <th>0</th>\n",
       "      <th>1</th>\n",
       "    </tr>\n",
       "  </thead>\n",
       "  <tbody>\n",
       "    <tr>\n",
       "      <th>0</th>\n",
       "      <td>Атанның басы, шегаранын барлығы жабық тұрса, қ...</td>\n",
       "      <td>1</td>\n",
       "    </tr>\n",
       "    <tr>\n",
       "      <th>1</th>\n",
       "      <td>Алкаштар кобейп кеттигой аракты неге мулдем ку...</td>\n",
       "      <td>1</td>\n",
       "    </tr>\n",
       "    <tr>\n",
       "      <th>2</th>\n",
       "      <td>Осы қызық не бар шетел қанғып</td>\n",
       "      <td>1</td>\n",
       "    </tr>\n",
       "    <tr>\n",
       "      <th>3</th>\n",
       "      <td>Осындай заманда қыдырып нелері бар тыныш отырм...</td>\n",
       "      <td>1</td>\n",
       "    </tr>\n",
       "    <tr>\n",
       "      <th>4</th>\n",
       "      <td>Бір жерді қысып үйде отыру керек деген осы</td>\n",
       "      <td>1</td>\n",
       "    </tr>\n",
       "    <tr>\n",
       "      <th>...</th>\n",
       "      <td>...</td>\n",
       "      <td>...</td>\n",
       "    </tr>\n",
       "    <tr>\n",
       "      <th>232</th>\n",
       "      <td>Бізге сіз сияқты келін бұйырса екен</td>\n",
       "      <td>0</td>\n",
       "    </tr>\n",
       "    <tr>\n",
       "      <th>233</th>\n",
       "      <td>Өте жарасымды жұп</td>\n",
       "      <td>0</td>\n",
       "    </tr>\n",
       "    <tr>\n",
       "      <th>234</th>\n",
       "      <td>Сәттілік, қуаныштымыз</td>\n",
       "      <td>0</td>\n",
       "    </tr>\n",
       "    <tr>\n",
       "      <th>235</th>\n",
       "      <td>Күшті, шыныменде керемет қой</td>\n",
       "      <td>0</td>\n",
       "    </tr>\n",
       "    <tr>\n",
       "      <th>236</th>\n",
       "      <td>Мақтауға тұрарлық</td>\n",
       "      <td>0</td>\n",
       "    </tr>\n",
       "  </tbody>\n",
       "</table>\n",
       "<p>237 rows × 2 columns</p>\n",
       "</div>"
      ],
      "text/plain": [
       "                                                     0  1\n",
       "0    Атанның басы, шегаранын барлығы жабық тұрса, қ...  1\n",
       "1    Алкаштар кобейп кеттигой аракты неге мулдем ку...  1\n",
       "2                       Осы қызық не бар шетел қанғып   1\n",
       "3    Осындай заманда қыдырып нелері бар тыныш отырм...  1\n",
       "4           Бір жерді қысып үйде отыру керек деген осы  1\n",
       "..                                                 ... ..\n",
       "232                Бізге сіз сияқты келін бұйырса екен  0\n",
       "233                                  Өте жарасымды жұп  0\n",
       "234                             Сәттілік, қуаныштымыз   0\n",
       "235                      Күшті, шыныменде керемет қой   0\n",
       "236                                  Мақтауға тұрарлық  0\n",
       "\n",
       "[237 rows x 2 columns]"
      ]
     },
     "execution_count": 13,
     "metadata": {},
     "output_type": "execute_result"
    }
   ],
   "source": [
    "batch_1 = pd.read_excel('toxic.xlsx')\n",
    "batch_1.columns = [0, 1]\n",
    "batch_1[1] = batch_1[1].apply(lambda x:1 if x == 'агрессивті' else 0)\n",
    "batch_1"
   ]
  },
  {
   "cell_type": "code",
   "execution_count": 14,
   "metadata": {},
   "outputs": [
    {
     "data": {
      "text/plain": [
       "1    131\n",
       "0    106\n",
       "Name: 1, dtype: int64"
      ]
     },
     "execution_count": 14,
     "metadata": {},
     "output_type": "execute_result"
    }
   ],
   "source": [
    "batch_1[1].value_counts()"
   ]
  },
  {
   "cell_type": "markdown",
   "metadata": {},
   "source": [
    "## Алдын-ала дайындалған BERT моделін жүктеу\n",
    "Енді алдын-ала дайындалған Берт моделін жүктейік."
   ]
  },
  {
   "cell_type": "code",
   "execution_count": 15,
   "metadata": {},
   "outputs": [],
   "source": [
    "# DistilBERT үшін:\n",
    "model_class, tokenizer_class, pretrained_weights = (ppb.DistilBertModel, ppb.DistilBertTokenizer, 'distilbert-base-uncased')\n",
    "\n",
    "# Алдын ала дайындалған модельді / токенизаторды жүктейміз\n",
    "tokenizer = tokenizer_class.from_pretrained(pretrained_weights)\n",
    "model = model_class.from_pretrained(pretrained_weights)"
   ]
  },
  {
   "cell_type": "markdown",
   "metadata": {},
   "source": [
    "Дәл қазір айнымалы \"модель\" құрамында алдын - ала дайындалған ДИСТИЛБЕРТ моделі-BERT нұсқасы бар, ол кішірек, бірақ әлдеқайда жылдам және аз жадты қажет етеді.\n",
    "\n",
    "## Модель #1: мәліметтер жиынтығын дайындау\n",
    "Бертке ұсыныстарымызды жібермес бұрын, оларды қажетті форматқа келтіру үшін минималды өңдеуді орындау керек.\n",
    "\n",
    "### Токенизация\n",
    "Біздің алғашқы қадамымыз-сөйлемдерді белгілеу-оларды Берт үшін ыңғайлы форматта сөздер мен қосалқы сөздерге бөлу."
   ]
  },
  {
   "cell_type": "code",
   "execution_count": 16,
   "metadata": {},
   "outputs": [],
   "source": [
    "tokenized = batch_1[0].apply((lambda x: tokenizer.encode(x, add_special_tokens=True)))"
   ]
  },
  {
   "cell_type": "markdown",
   "metadata": {},
   "source": [
    "<img src=\"https://jalammar.github.io/images/distilBERT/bert-distilbert-tokenization-2-token-ids.png\" />\n",
    "\n",
    "### Padding\n",
    "Токенизациядан кейін\" токенизацияланған \" - бұл ұсыныстар тізімі-әр сөйлем токендер тізімі ретінде берілген. Біз БЕРТТІҢ барлық мысалдарымызды бірден өңдегенін қалаймыз (бір партия ретінде). Бұл тезірек болады. Осы себепті, біз барлық тізімдерді бірдей мөлшерде толтыруымыз керек, осылайша кірістерді тізімдер тізімінен (әр түрлі ұзындықтар) емес, бір 2-d массив ретінде ұсына аламыз."
   ]
  },
  {
   "cell_type": "code",
   "execution_count": 17,
   "metadata": {},
   "outputs": [],
   "source": [
    "max_len = 0\n",
    "for i in tokenized.values:\n",
    "    if len(i) > max_len:\n",
    "        max_len = len(i)\n",
    "\n",
    "padded = np.array([i + [0]*(max_len-len(i)) for i in tokenized.values])"
   ]
  },
  {
   "cell_type": "code",
   "execution_count": 18,
   "metadata": {},
   "outputs": [
    {
     "data": {
      "text/plain": [
       "(237, 209)"
      ]
     },
     "execution_count": 18,
     "metadata": {},
     "output_type": "execute_result"
    }
   ],
   "source": [
    "attention_mask = np.where(padded != 0, 1, 0)\n",
    "attention_mask.shape"
   ]
  },
  {
   "cell_type": "markdown",
   "metadata": {},
   "source": [
    "## № 1 Модель: енді-терең оқыту!\n",
    "Енді бізде модель бар және енгізу дайын, модельді іске қосайық!\n",
    "\n",
    "<img src=\"https://jalammar.github.io/images/distilBERT/bert-distilbert-tutorial-sentence-embedding.png\" />\n",
    "\n",
    "'Model ()' функциясы біздің ұсыныстарымызды BERT арқылы іске қосады. Өңдеу нәтижелері \"last_hidden_states\" - ке қайтарылады."
   ]
  },
  {
   "cell_type": "code",
   "execution_count": 19,
   "metadata": {},
   "outputs": [],
   "source": [
    "input_ids = torch.tensor(padded).to(torch.int64) \n",
    "attention_mask = torch.tensor(attention_mask).to(torch.int64)\n",
    "\n",
    "with torch.no_grad():\n",
    "    last_hidden_states = model(input_ids, attention_mask=attention_mask)"
   ]
  },
  {
   "cell_type": "code",
   "execution_count": 20,
   "metadata": {},
   "outputs": [],
   "source": [
    "features = last_hidden_states[0][:,0,:].numpy()"
   ]
  },
  {
   "cell_type": "code",
   "execution_count": 21,
   "metadata": {},
   "outputs": [],
   "source": [
    "labels = batch_1[1]"
   ]
  },
  {
   "cell_type": "markdown",
   "metadata": {},
   "source": [
    "## № 2 Модель: Трейнді/тестті бөлу\n",
    "Енді мәліметтер жиынтығын оқыту жиынтығы мен тест жиынтығына бөлейік"
   ]
  },
  {
   "cell_type": "code",
   "execution_count": 22,
   "metadata": {},
   "outputs": [],
   "source": [
    "train_features, test_features, train_labels, test_labels = train_test_split(features, labels)"
   ]
  },
  {
   "cell_type": "markdown",
   "metadata": {},
   "source": [
    "<img src=\"https://jalammar.github.io/images/distilBERT/bert-distilbert-train-test-split-sentence-embedding.png\" />"
   ]
  },
  {
   "cell_type": "code",
   "execution_count": 39,
   "metadata": {},
   "outputs": [
    {
     "name": "stdout",
     "output_type": "stream",
     "text": [
      "              precision    recall  f1-score   support\n",
      "\n",
      "           0       0.73      0.73      0.73        26\n",
      "           1       0.79      0.79      0.79        34\n",
      "\n",
      "    accuracy                           0.77        60\n",
      "   macro avg       0.76      0.76      0.76        60\n",
      "weighted avg       0.77      0.77      0.77        60\n",
      "\n",
      "Logistic Regression, Accuracy Score: 0.7666666666666667\n"
     ]
    }
   ],
   "source": [
    "model = LogisticRegression().fit(train_features,train_labels)\n",
    "y_preds = model.predict(test_features)\n",
    "report = classification_report(test_labels, y_preds)\n",
    "print(report)\n",
    "acc=accuracy_score(test_labels, y_preds)\n",
    "print(\"Logistic Regression, Accuracy Score:\" , acc)"
   ]
  },
  {
   "cell_type": "code",
   "execution_count": 40,
   "metadata": {},
   "outputs": [
    {
     "name": "stdout",
     "output_type": "stream",
     "text": [
      "              precision    recall  f1-score   support\n",
      "\n",
      "           0       0.72      0.69      0.71        26\n",
      "           1       0.77      0.79      0.78        34\n",
      "\n",
      "    accuracy                           0.75        60\n",
      "   macro avg       0.75      0.74      0.74        60\n",
      "weighted avg       0.75      0.75      0.75        60\n",
      "\n",
      "Random Forest, Accuracy Score: 0.75\n"
     ]
    }
   ],
   "source": [
    "rf=RandomForestClassifier()\n",
    "rf.fit(train_features,train_labels)\n",
    "y_preds = rf.predict(test_features)\n",
    "acc1=accuracy_score(test_labels, y_preds)\n",
    "report = classification_report(test_labels, y_preds)\n",
    "print(report)\n",
    "print(\"Random Forest, Accuracy Score:\",acc1)"
   ]
  },
  {
   "cell_type": "code",
   "execution_count": 41,
   "metadata": {},
   "outputs": [
    {
     "name": "stdout",
     "output_type": "stream",
     "text": [
      "              precision    recall  f1-score   support\n",
      "\n",
      "           0       0.79      0.58      0.67        26\n",
      "           1       0.73      0.88      0.80        34\n",
      "\n",
      "    accuracy                           0.75        60\n",
      "   macro avg       0.76      0.73      0.73        60\n",
      "weighted avg       0.76      0.75      0.74        60\n",
      "\n",
      "Наивты Байес, Дәлдікті Бағалау: 0.75\n"
     ]
    }
   ],
   "source": [
    "nb=GaussianNB()\n",
    "nb.fit(train_features,train_labels)\n",
    "y_preds = nb.predict(test_features)\n",
    "acc2=accuracy_score(test_labels, y_preds)\n",
    "report = classification_report(test_labels, y_preds)\n",
    "print(report)\n",
    "print(\"Наивты Байес, Дәлдікті Бағалау:\",acc2)"
   ]
  },
  {
   "cell_type": "code",
   "execution_count": 42,
   "metadata": {},
   "outputs": [
    {
     "name": "stdout",
     "output_type": "stream",
     "text": [
      "              precision    recall  f1-score   support\n",
      "\n",
      "           0       0.77      0.77      0.77        26\n",
      "           1       0.82      0.82      0.82        34\n",
      "\n",
      "    accuracy                           0.80        60\n",
      "   macro avg       0.80      0.80      0.80        60\n",
      "weighted avg       0.80      0.80      0.80        60\n",
      "\n",
      "SVM, дәлдікті бағалау: 0.8\n"
     ]
    }
   ],
   "source": [
    "support =LinearSVC(random_state=20)\n",
    "support.fit(train_features,train_labels)\n",
    "y_preds = support.predict(test_features)\n",
    "acc3=accuracy_score(test_labels, y_preds)\n",
    "report = classification_report(test_labels, y_preds)\n",
    "print(report)\n",
    "print(\"SVM, дәлдікті бағалау:\" , acc3)"
   ]
  },
  {
   "cell_type": "code",
   "execution_count": 43,
   "metadata": {},
   "outputs": [
    {
     "data": {
      "image/png": "[encoded data removed]",
      "text/plain": [
       "<Figure size 432x288 with 1 Axes>"
      ]
     },
     "metadata": {
      "needs_background": "light"
     },
     "output_type": "display_data"
    }
   ],
   "source": [
    "objects = ('Логистикалық', 'КездейсоқОрман', 'НаивтыБайес', 'СВМ')\n",
    "y_pos = np.arange(len(objects))\n",
    "performance = [acc,acc1,acc2,acc3]\n",
    "plt.bar(y_pos, performance, align='center', alpha=0.5)\n",
    "plt.xticks(y_pos, objects)\n",
    "plt.ylabel('Дәлдік')\n",
    "plt.title('F1 үшін алгоритмдерді салыстыру')\n",
    "plt.show()"
   ]
  }
 ],
 "metadata": {
  "kernelspec": {
   "display_name": "Python 3",
   "language": "python",
   "name": "python3"
  },
  "language_info": {
   "codemirror_mode": {
    "name": "ipython",
    "version": 3
   },
   "file_extension": ".py",
   "mimetype": "text/x-python",
   "name": "python",
   "nbconvert_exporter": "python",
   "pygments_lexer": "ipython3",
   "version": "3.7.7"
  },
  "toc": {
   "base_numbering": 1,
   "nav_menu": {},
   "number_sections": true,
   "sideBar": true,
   "skip_h1_title": false,
   "title_cell": "Table of Contents",
   "title_sidebar": "Contents",
   "toc_cell": false,
   "toc_position": {},
   "toc_section_display": true,
   "toc_window_display": false
  }
 },
 "nbformat": 4,
 "nbformat_minor": 4
}
